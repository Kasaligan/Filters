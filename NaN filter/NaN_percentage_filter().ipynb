{
  "nbformat": 4,
  "nbformat_minor": 0,
  "metadata": {
    "colab": {
      "name": "NaN_percentage_filter()",
      "provenance": [],
      "collapsed_sections": [],
      "authorship_tag": "ABX9TyPOY8zZy02gY5UQgXM8PE1S",
      "include_colab_link": true
    },
    "kernelspec": {
      "name": "python3",
      "display_name": "Python 3"
    },
    "language_info": {
      "name": "python"
    }
  },
  "cells": [
    {
      "cell_type": "markdown",
      "metadata": {
        "id": "view-in-github",
        "colab_type": "text"
      },
      "source": [
        "<a href=\"https://colab.research.google.com/github/Kasaligan/Personal_methods/blob/main/NaN_percentage_filter().ipynb\" target=\"_parent\"><img src=\"https://colab.research.google.com/assets/colab-badge.svg\" alt=\"Open In Colab\"/></a>"
      ]
    },
    {
      "cell_type": "code",
      "metadata": {
        "id": "DZOEf5PvGEHw"
      },
      "source": [
        "#The following method eliminates atributes from a dataset if the percentage of NaN values surpasses a given threshold.\n",
        "#Requires pandas library.\n",
        "\n",
        "def missing_value_percentage_filter(df, threshold=100,axis=0,inplace=False,show_percentages=False,show_erased_atributes=False):    \n",
        "  #Parameters description:\n",
        "  #   - df: base dataframe \n",
        "  #   - threshold: percentage threshold above which the method will filter atributes. Mustt be in range 0<=threshold<=100 \n",
        "  #   - axis: choose \"1\" for atributes in rows, \"0\" for atributes in columns\n",
        "  #   - inplace: Boolean. False will return processed dataframe, True will overwrite base dataframe\n",
        "  #   - show_percentages: shows the NaN percentages for each variable\n",
        "  #   - show_erased_atributes: shows the erased atributes based on the NaN percentage threshold\n",
        "\n",
        "  if type(inplace)!=bool:                           #checks if inplace parameter is boolean\n",
        "    print('Inplace parameter must be boolean.')\n",
        "    return\n",
        "  if threshold>100 or threshold<0:                              #checks if threshold is in correct range\n",
        "    print('Threshold value must be between 0 and 100.')\n",
        "    return\n",
        "\n",
        "  null_percentage=df.isnull().sum(axis=axis)*100/len(df)              #calculates the NaN percentage for the atributes\n",
        "  if show_percentages==True:\n",
        "    print('NaN percentages: \\n', null_percentage)\n",
        "  threshold_index=null_percentage[null_percentage>threshold].index    #recovers index of atributes above the threshold\n",
        "  if show_erased_atributes==True:\n",
        "    print('Erased atributes: ',threshold_index)                     #informs erased atributes\n",
        "  if inplace==True:                                               #overwrites base dataset or returns result dataset acording to inplace parameter  \n",
        "    df.drop(threshold_index,axis=1,inplace=inplace)             \n",
        "  elif inplace==False:\n",
        "    return df.drop(threshold_index,axis=1,inplace=inplace)"
      ],
      "execution_count": null,
      "outputs": []
    }
  ]
}
