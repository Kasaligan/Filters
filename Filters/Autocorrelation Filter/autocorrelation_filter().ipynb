{
  "nbformat": 4,
  "nbformat_minor": 0,
  "metadata": {
    "colab": {
      "name": "autocorrelation_filter()",
      "provenance": [],
      "collapsed_sections": [],
      "authorship_tag": "ABX9TyOZqPCru9DMRBCxj9oJzCVo",
      "include_colab_link": true
    },
    "kernelspec": {
      "name": "python3",
      "display_name": "Python 3"
    },
    "language_info": {
      "name": "python"
    }
  },
  "cells": [
    {
      "cell_type": "markdown",
      "metadata": {
        "id": "view-in-github",
        "colab_type": "text"
      },
      "source": [
        "<a href=\"https://colab.research.google.com/github/Kasaligan/Personal_methods/blob/main/autocorrelation_filter().ipynb\" target=\"_parent\"><img src=\"https://colab.research.google.com/assets/colab-badge.svg\" alt=\"Open In Colab\"/></a>"
      ]
    },
    {
      "cell_type": "code",
      "metadata": {
        "id": "P_fRLZSj_1ZB"
      },
      "source": [
        "#The following method eliminates dataframe atributes based on a Pearson correlation (R) threshold which can be positive or negative.\n",
        "#If positive the method eliminates atributes with correlations above said threshold. If negative the method eliminates atributes with correlations below the threshold.\n",
        "#Atributes must be in COLUMNS\n",
        "#Requires pandas library and numpy library as np\n",
        "\n",
        "def autocorrelation_filter(df, threshold=1,inplace=False,show_correlations=False,show_erased_atributes=False):      \n",
        "  #Parameters description: \n",
        "  #   - df: base dataframe \n",
        "  #   - threshold: R threshold above or below (depending on sign + or -) which the method will filter atributes. Mustt be in range -1<=threshold<=1 \n",
        "  #   - inplace: Boolean. False will return processed dataframe, True will overwrite base dataframe\n",
        "  #   - show_correlations: shows the correlation matrix\n",
        "  #   - show_erased_atributes: shows the erased atributes based on the NaN percentage threshold\n",
        "  \n",
        "  if type(inplace)!=bool:                           #checks if inplace parameter is boolean\n",
        "    print('Inplace parameter must be boolean.')\n",
        "    return\n",
        "  if abs(threshold)>1:                              #checks if threshold is in correct range\n",
        "    print('Threshold value must be between -1 and 1.')\n",
        "    return\n",
        "\n",
        "  correlation_method='pearson'      #this function can be modified to allow different correlation methods, though it's not currently implemented\n",
        "\n",
        "  correlation_matrix=df.corr(method=correlation_method) #calculate correlation matrix\n",
        "\n",
        "  if show_correlations==True:\n",
        "    print('Correlation matrix: \\n', correlation_matrix)\n",
        "\n",
        "  if threshold<0:                                       #in case threshold is negative \n",
        "    correlation_matrix=-1*correlation_matrix            #correlation matrix and threshold sings are inverted \n",
        "    threshold=-threshold                                #this way the code is the same as if threshold was positive\n",
        "\n",
        "  np.fill_diagonal(correlation_matrix.values, 0)    #autocorrelations are replaced with zero\n",
        "\n",
        "  correlation_bool=correlation_matrix.copy()        #auxiliary dataframe\n",
        "  correlation_bool[correlation_bool<threshold]=0    #correlations below threshold are replaced with zero\n",
        "  correlation_bool[correlation_bool>=threshold]=1   #correlations above or equal to threshold are replaced with one\n",
        "\n",
        "  if inplace==True:\n",
        "    df_aux=df             #in case inplace is True modify original dataframe\n",
        "  elif inplace==False:\n",
        "    df_aux=df.copy()      #if not create a new dataframe which will be returned at the end\n",
        "  \n",
        "  correlations_dumb_total=correlation_bool.sum() #stores the total number of correlations that surpass the threshold for each atribute\n",
        "  \n",
        "  #this is done without considering the actual correlation values, which is why it's a \"dumb\" total\n",
        "\n",
        "  erased_parameters=np.array([])    #dataframe to store and later inform erased atributes\n",
        "\n",
        "  while correlations_dumb_total.any().any():       #while there are still correlations above threshold\n",
        "\n",
        "    parameter_index=np.array(np.where(correlations_dumb_total==max(correlations_dumb_total)))[0] #atribute index with the maximum number of correlations above threshold  \n",
        "    #np.where returns a tuple, which I here change into a one-dimensional array\n",
        "    \n",
        "    if np.size(parameter_index)>1:    #if more than one atribute has the maximum number of correlations above threshold\n",
        "      correlation_comparative=correlation_matrix.iloc[:,parameter_index].sum() #calculate the sum of the correlations above threshold for each of the atributes of interest\n",
        "      aux_index=np.array(np.where(correlation_comparative==max(correlation_comparative)))[0] #obtain the index of the maximum of these correlation sums\n",
        "      #np.where returns a tuple, which I here change into a one-dimensional array      \n",
        "      aux_index=aux_index[0]       #access the actual number of the array\n",
        "      parameter_index=parameter_index[aux_index]     #select the atribute index based on previous step\n",
        "    \n",
        "    erased_parameters=np.append(erased_parameters,df_aux.columns[parameter_index])   #add the soon to be erased parameter to a list for future reference\n",
        "\n",
        "    #these next lines erase the atribute from all matrixes of interest\n",
        "    correlation_matrix.drop(correlation_matrix.columns[parameter_index],axis=1,inplace=True)\n",
        "    correlation_matrix.drop(correlation_matrix.index[parameter_index],axis=0,inplace=True)    \n",
        "    correlation_bool.drop(correlation_bool.columns[parameter_index],axis=1,inplace=True)\n",
        "    correlation_bool.drop(correlation_bool.index[parameter_index],axis=0,inplace=True)\n",
        "    df_aux.drop(df_aux.columns[parameter_index],axis=1,inplace=True) \n",
        "\n",
        "    #Calculate remaining correlations above threshold, sum them and repeat until no correlation remains above threshold      \n",
        "    correlations_dumb_total=correlation_bool.sum()\n",
        "\n",
        "  if show_erased_atributes==True:\n",
        "    print('The following parameters have been erased: ', erased_parameters) #inform which atributes have been deleted\n",
        "\n",
        "  if inplace==False:  #if inplace=True the base dataframe has already been actualized, if not then return the modified dataframe\n",
        "    return df_aux\n",
        "  "
      ],
      "execution_count": null,
      "outputs": []
    }
  ]
}
