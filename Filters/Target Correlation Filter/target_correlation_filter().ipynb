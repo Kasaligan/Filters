{
  "nbformat": 4,
  "nbformat_minor": 0,
  "metadata": {
    "colab": {
      "name": "target_correlation_filter()",
      "provenance": [],
      "collapsed_sections": [],
      "authorship_tag": "ABX9TyOkrtRYXTbGwDpvylRFyaV0",
      "include_colab_link": true
    },
    "kernelspec": {
      "name": "python3",
      "display_name": "Python 3"
    },
    "language_info": {
      "name": "python"
    }
  },
  "cells": [
    {
      "cell_type": "markdown",
      "metadata": {
        "id": "view-in-github",
        "colab_type": "text"
      },
      "source": [
        "<a href=\"https://colab.research.google.com/github/Kasaligan/Personal_methods/blob/main/target_correlation_filter().ipynb\" target=\"_parent\"><img src=\"https://colab.research.google.com/assets/colab-badge.svg\" alt=\"Open In Colab\"/></a>"
      ]
    },
    {
      "cell_type": "code",
      "metadata": {
        "id": "uhxESx-ARYOV"
      },
      "source": [
        "#The following method eliminates atributes from a dataset if the absolute value of the Pearson correlation (R) with target variable is below a certain threshold.\n",
        "#Example: if threshold is set to 0.3, all atributes whose R correlation with target variable in the range (-0.3,0.3) will be erased. \n",
        "#Requires pandas library.\n",
        "\n",
        "def target_correlation_filter(df,target, threshold=0,axis=0,inplace=False,show_correlations=False,show_erased_atributes=False): \n",
        "  #Parameters description: \n",
        "  #   - df: base dataframe \n",
        "  #   - target: target dataframe to correlate with\n",
        "  #   - threshold: R threshold below which the method will filter atributes. Mustt be in range 0<=threshold<=1 \n",
        "  #   - inplace: Boolean. False will return processed dataframe, True will overwrite base dataframe\n",
        "  #   - show_correlations: shows the correlations with target for each variable\n",
        "  #   - show_erased_atributes: shows the erased atributes based on the NaN percentage threshold\n",
        "\n",
        "  correlation_method='pearson'    #correlation method for corrwith is defined here, this function could be modified to allow different correlation methods\n",
        "\n",
        "  if type(inplace)!=bool:                           #checks if inplace parameter is boolean\n",
        "    print('Inplace parameter must be boolean.')\n",
        "    return\n",
        "  if abs(threshold)>1:                              #checks if threshold is in correct range\n",
        "    print('Threshold value must be between -1 and 1.')\n",
        "    return\n",
        "\n",
        "\n",
        "  correlation_percentage=df.corrwith(target,axis=axis,method=correlation_method)  #calculate correlation vector with target variable\n",
        "  if show_correlations==True:\n",
        "    print('Correlations with target: \\n', correlation_percentage)                   #show correlations with target\n",
        "  correlation_percentage=abs(correlation_percentage)                              #aply absolute value to the correlation vector\n",
        "  threshold_index=correlation_percentage[correlation_percentage<threshold].index  #recover index of atributes with absolute correlations below threshold\n",
        "  if show_erased_atributes==True:\n",
        "    print('The following parameters have been erased: ',threshold_index)            #show erased parameters\n",
        "  if inplace==True:         #overwrites base dataset or returns result dataset acording to inplace parameter \n",
        "    df.drop(threshold_index,axis=1,inplace=inplace)\n",
        "  elif inplace==False:\n",
        "    return df.drop(threshold_index,axis=1,inplace=inplace)\n"
      ],
      "execution_count": null,
      "outputs": []
    }
  ]
}
